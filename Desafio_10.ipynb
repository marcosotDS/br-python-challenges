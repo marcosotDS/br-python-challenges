{
  "nbformat": 4,
  "nbformat_minor": 0,
  "metadata": {
    "anaconda-cloud": {},
    "colab": {
      "name": "Desafio 10.ipynb",
      "provenance": [],
      "include_colab_link": true
    },
    "kernelspec": {
      "display_name": "Python 3",
      "language": "python",
      "name": "python3"
    },
    "language_info": {
      "codemirror_mode": {
        "name": "ipython",
        "version": 3
      },
      "file_extension": ".py",
      "mimetype": "text/x-python",
      "name": "python",
      "nbconvert_exporter": "python",
      "pygments_lexer": "ipython3",
      "version": "3.7.9"
    }
  },
  "cells": [
    {
      "cell_type": "markdown",
      "metadata": {
        "id": "view-in-github",
        "colab_type": "text"
      },
      "source": [
        "<a href=\"https://colab.research.google.com/github/marcosotDS/br-python-challenges/blob/master/Desafio_10.ipynb\" target=\"_parent\"><img src=\"https://colab.research.google.com/assets/colab-badge.svg\" alt=\"Open In Colab\"/></a>"
      ]
    },
    {
      "cell_type": "markdown",
      "metadata": {
        "id": "a4-FLDRof6Jv"
      },
      "source": [
        "### Desafio 10\n",
        "\n",
        "Dada uma lista, divida-a em 3 partes iguais e reverta a ordem de cada lista.\n",
        "\n",
        "**Exemplo:** \n",
        "\n",
        "Entrada: \\\n",
        "sampleList = [11, 45, 8, 23, 14, 12, 78, 45, 89]\n",
        "\n",
        "Saída: \\\n",
        "Parte 1 [8, 45, 11] \\\n",
        "Parte 2 [12, 14, 23] \\\n",
        "Parte 3 [89, 45, 78] "
      ]
    },
    {
      "cell_type": "code",
      "metadata": {
        "colab": {
          "base_uri": "https://localhost:8080/"
        },
        "id": "IJ70pUjnf6Jw",
        "outputId": "52c8159d-1f8a-4359-8042-cf1d63951a43"
      },
      "source": [
        "\n",
        "sampleList = [11, 45, 8, 23, 14, 12, 78, 45, 89]\n",
        "l1 = []\n",
        "l2 = []\n",
        "l3 = []\n",
        "qtde = len(sampleList) / 3\n",
        "if qtde.is_integer():\n",
        "  for elem in sampleList:\n",
        "      if len(l1) < qtde:\n",
        "          l1.append(elem)\n",
        "          parte_1 = reversed(l1)\n",
        "      elif len(l2) < qtde:\n",
        "          l2.append(elem)\n",
        "          parte_2 = reversed(l2)\n",
        "      else:\n",
        "          if len(l3) < qtde:\n",
        "              l3.append(elem)\n",
        "              parte_3 = reversed(l3)\n",
        "  print(f'Parte 1: {list(parte_1)}'\n",
        "        f'\\nParte 2: {list(parte_2)}'\n",
        "        f'\\nParte 3: {list(parte_3)}')\n",
        "else:\n",
        "  print('A respectiva lista não pode ser dividida em 3 partes iguais!')"
      ],
      "execution_count": 2,
      "outputs": [
        {
          "output_type": "stream",
          "name": "stdout",
          "text": [
            "Parte 1: [8, 45, 11]\n",
            "Parte 2: [12, 14, 23]\n",
            "Parte 3: [89, 45, 78]\n"
          ]
        }
      ]
    },
    {
      "cell_type": "code",
      "metadata": {
        "id": "pNrXNVqf8Wc1"
      },
      "source": [
        ""
      ],
      "execution_count": null,
      "outputs": []
    }
  ]
}